{
 "cells": [
  {
   "cell_type": "markdown",
   "metadata": {},
   "source": [
    "# <center> Hands-on Example with MGWR </center>\n",
    "\n",
    "**Notebook Outline:**  \n",
    "  \n",
    "**An example of hedonic house price modeling using MGWR**\n",
    "- [Introduction to the Dataset](#Introduction-to-the-Dataset)\n",
    "- [Loading the dataset](#Loading-the-Dataset)\n",
    "- [Weighting Kernels and other Options](#Weighting-Kernels-and-other-Options) <br><br>\n",
    "\n",
    "[Back to the main page](https://mehak-sachdeva.github.io/MGWR_workshop_book/)\n"
   ]
  },
  {
   "cell_type": "markdown",
   "metadata": {},
   "source": [
    "# Introduction to the Dataset\n",
    "\n",
    "***\n",
    "\n",
    "#### Please use [this link](http://msachdeva.cartodb.com/api/v2/sql?filename=example_dataset&format=csv&q=SELECT+*+FROM+census_tracts_final+as+example_data) to directly download a csv of the dataset"
   ]
  },
  {
   "cell_type": "markdown",
   "metadata": {},
   "source": [
    "<img src=\"../images/data_structure_1.PNG\">"
   ]
  },
  {
   "cell_type": "markdown",
   "metadata": {},
   "source": [
    "- **houses** - number of houses in the census tracts\n",
    "\n",
    "**Dependent variables**\n",
    "\n",
    "- **avg_price** - average house prices in the census tracts\n",
    "        \n",
    "        OR\n",
    "\n",
    "- **ln_avg_price** - log-transformed average house prices in the census tracts\n",
    "\n",
    "**Independent variables**\n",
    "\n",
    "- **avg_tech** - average technology related jobs in the census tracts\n",
    "\n",
    "- **avg_unemp** - average unemployment rate in the census tracts\n",
    "\n",
    "- **avg_index** - average number of house with a view to the waterfront\n",
    "\n",
    "- **avg_basement** - average basements in the houses in the census tracts\n",
    "\n",
    "- **avg_water_dist** - average distance to nearest waterfronts from the houses in the census tracts\n",
    "\n",
    "- **avg_sqft** - average square footage of living area in houses in the census tracts\n",
    "\n",
    "- **avg_age** - average age of housing units in the census tracts"
   ]
  },
  {
   "cell_type": "markdown",
   "metadata": {},
   "source": [
    "#### Dependent variable distribution\n",
    "\n",
    "<img src=\"../images/data_hist.PNG\">"
   ]
  },
  {
   "cell_type": "markdown",
   "metadata": {},
   "source": [
    "#### Hence, we use the log-transformed dependent variable *ln_avg_price*"
   ]
  },
  {
   "cell_type": "markdown",
   "metadata": {},
   "source": [
    "# Loading the Dataset\n",
    "\n",
    "Open the [MGWR GUI software](https://sgsup.asu.edu/sparc/mgwr) on your desktop to follow along!\n",
    "\n"
   ]
  },
  {
   "cell_type": "markdown",
   "metadata": {},
   "source": [
    "At this stage I am going to do the steps elaborated below live. The screenshots of the steps below will guide you if you need additional reference."
   ]
  },
  {
   "cell_type": "markdown",
   "metadata": {},
   "source": [
    "### 1. Loading the dataset and variables"
   ]
  },
  {
   "cell_type": "markdown",
   "metadata": {},
   "source": [
    "<img src=\"../images/step_1.png\">"
   ]
  },
  {
   "cell_type": "markdown",
   "metadata": {},
   "source": []
  },
  {
   "cell_type": "markdown",
   "metadata": {},
   "source": []
  },
  {
   "cell_type": "markdown",
   "metadata": {},
   "source": [
    "#### Dependent variable"
   ]
  },
  {
   "cell_type": "markdown",
   "metadata": {},
   "source": [
    "To calibrate a regression model at each location we would technicaly require multiple unique data points at the same location. Since that kind of data is extemely hard to find, GWR gets around the problem by **borrowing data from geographically neighboring locations**. This is in accordance with **Tobler's Law** of spatial dependence. The number of neighboring data values used to calibrate a model is obtained using an optimization criterion such as AIC or cross-validation and the parameter is called the **bandwidth**. The bandwidth is interpreted as an indicator of scale at which the spatial processes have the most to contribute to the formation of the spatial pattern being examined. "
   ]
  },
  {
   "cell_type": "markdown",
   "metadata": {},
   "source": [
    "<img src=\"../images/data_borrowing.PNG\">"
   ]
  },
  {
   "cell_type": "markdown",
   "metadata": {},
   "source": [
    "# Bandwidth - Indicator of Scale\n",
    "\n",
    "***\n",
    "\n",
    "<Explanation of bandwidth parameter here>\n",
    "\n"
   ]
  },
  {
   "cell_type": "markdown",
   "metadata": {},
   "source": [
    "<img src = \"../images/bandwidth.PNG\">"
   ]
  },
  {
   "cell_type": "markdown",
   "metadata": {},
   "source": [
    "# **Multiscale** Geographically Weighted Regression\n",
    "\n",
    "***\n",
    "\n",
    "Since different processes affect the spatial pattern we observe at different scales (as we saw in the human migration example above!), a recent multiscale extension to GWR was developed. This extension relaxes the assumtion that all processes operate at a single scale and allows the estimation of unique scales of spatial processes in a model. \n",
    "\n",
    "In the simulated example below, for example, an MGWR model will potentially be able to estimate an appropriate scale for each process depending on the amount of spatial heterogeneity in each process. MGWR model in effect, produces a bandwidth parameter for each spatial process being modeled."
   ]
  },
  {
   "cell_type": "markdown",
   "metadata": {},
   "source": [
    "<img src=\"../images/MGWR_band.PNG\">"
   ]
  }
 ],
 "metadata": {
  "kernelspec": {
   "display_name": "Python 3",
   "language": "python",
   "name": "python3"
  },
  "language_info": {
   "codemirror_mode": {
    "name": "ipython",
    "version": 3
   },
   "file_extension": ".py",
   "mimetype": "text/x-python",
   "name": "python",
   "nbconvert_exporter": "python",
   "pygments_lexer": "ipython3",
   "version": "3.6.6"
  }
 },
 "nbformat": 4,
 "nbformat_minor": 2
}
